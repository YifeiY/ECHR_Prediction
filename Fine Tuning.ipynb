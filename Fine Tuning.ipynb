{
 "cells": [
  {
   "cell_type": "code",
   "execution_count": null,
   "metadata": {},
   "outputs": [],
   "source": [
    "import numpy as np\n",
    "import os\n",
    "import torch.nn as nn\n",
    "import torch"
   ]
  },
  {
   "cell_type": "code",
   "execution_count": 13,
   "metadata": {},
   "outputs": [],
   "source": [
    "COURPUS_DIR = 'C:/Users/Yifei/Desktop/\"ECHR Publication Experiments\"/DS/corpus.txt'\n",
    "BERT_BASE_DIR ='C:/Users/Yifei/Desktop/\"ECHR Publication Experiments\"/bert_master'\n"
   ]
  },
  {
   "cell_type": "code",
   "execution_count": 15,
   "metadata": {},
   "outputs": [
    {
     "name": "stderr",
     "output_type": "stream",
     "text": [
      "WARNING:tensorflow:From bert_master/create_pretraining_data.py:469: The name tf.app.run is deprecated. Please use tf.compat.v1.app.run instead.\n",
      "\n",
      "WARNING:tensorflow:From bert_master/create_pretraining_data.py:437: The name tf.logging.set_verbosity is deprecated. Please use tf.compat.v1.logging.set_verbosity instead.\n",
      "\n",
      "W0510 13:12:41.121840  7724 module_wrapper.py:139] From bert_master/create_pretraining_data.py:437: The name tf.logging.set_verbosity is deprecated. Please use tf.compat.v1.logging.set_verbosity instead.\n",
      "\n",
      "WARNING:tensorflow:From bert_master/create_pretraining_data.py:437: The name tf.logging.INFO is deprecated. Please use tf.compat.v1.logging.INFO instead.\n",
      "\n",
      "W0510 13:12:41.121840  7724 module_wrapper.py:139] From bert_master/create_pretraining_data.py:437: The name tf.logging.INFO is deprecated. Please use tf.compat.v1.logging.INFO instead.\n",
      "\n",
      "WARNING:tensorflow:From C:\\Users\\Yifei\\Desktop\\ECHR Publication Experiments\\bert_master\\tokenization.py:125: The name tf.gfile.GFile is deprecated. Please use tf.io.gfile.GFile instead.\n",
      "\n",
      "W0510 13:12:41.121840  7724 module_wrapper.py:139] From C:\\Users\\Yifei\\Desktop\\ECHR Publication Experiments\\bert_master\\tokenization.py:125: The name tf.gfile.GFile is deprecated. Please use tf.io.gfile.GFile instead.\n",
      "\n",
      "WARNING:tensorflow:From bert_master/create_pretraining_data.py:444: The name tf.gfile.Glob is deprecated. Please use tf.io.gfile.glob instead.\n",
      "\n",
      "W0510 13:12:41.121840  7724 module_wrapper.py:139] From bert_master/create_pretraining_data.py:444: The name tf.gfile.Glob is deprecated. Please use tf.io.gfile.glob instead.\n",
      "\n",
      "WARNING:tensorflow:From bert_master/create_pretraining_data.py:446: The name tf.logging.info is deprecated. Please use tf.compat.v1.logging.info instead.\n",
      "\n",
      "W0510 13:12:41.121840  7724 module_wrapper.py:139] From bert_master/create_pretraining_data.py:446: The name tf.logging.info is deprecated. Please use tf.compat.v1.logging.info instead.\n",
      "\n",
      "INFO:tensorflow:*** Reading from input files ***\n",
      "I0510 13:12:41.121840  7724 create_pretraining_data.py:446] *** Reading from input files ***\n",
      "INFO:tensorflow:*** Writing to output files ***\n",
      "I0510 13:12:41.121840  7724 create_pretraining_data.py:457] *** Writing to output files ***\n",
      "INFO:tensorflow:  /tmp/tf_examples.tfrecord\n",
      "I0510 13:12:41.121840  7724 create_pretraining_data.py:459]   /tmp/tf_examples.tfrecord\n",
      "WARNING:tensorflow:From bert_master/create_pretraining_data.py:101: The name tf.python_io.TFRecordWriter is deprecated. Please use tf.io.TFRecordWriter instead.\n",
      "\n",
      "W0510 13:12:41.121840  7724 module_wrapper.py:139] From bert_master/create_pretraining_data.py:101: The name tf.python_io.TFRecordWriter is deprecated. Please use tf.io.TFRecordWriter instead.\n",
      "\n",
      "Traceback (most recent call last):\n",
      "  File \"bert_master/create_pretraining_data.py\", line 469, in <module>\n",
      "    tf.app.run()\n",
      "  File \"C:\\Users\\Yifei\\anaconda3\\lib\\site-packages\\tensorflow_core\\python\\platform\\app.py\", line 40, in run\n",
      "    _run(main=main, argv=argv, flags_parser=_parse_flags_tolerate_undef)\n",
      "  File \"C:\\Users\\Yifei\\anaconda3\\lib\\site-packages\\absl\\app.py\", line 299, in run\n",
      "    _run_main(main, args)\n",
      "  File \"C:\\Users\\Yifei\\anaconda3\\lib\\site-packages\\absl\\app.py\", line 250, in _run_main\n",
      "    sys.exit(main(argv))\n",
      "  File \"bert_master/create_pretraining_data.py\", line 462, in main\n",
      "    FLAGS.max_predictions_per_seq, output_files)\n",
      "  File \"bert_master/create_pretraining_data.py\", line 101, in write_instance_to_example_files\n",
      "    writers.append(tf.python_io.TFRecordWriter(output_file))\n",
      "  File \"C:\\Users\\Yifei\\anaconda3\\lib\\site-packages\\tensorflow_core\\python\\lib\\io\\tf_record.py\", line 218, in __init__\n",
      "    compat.as_bytes(path), options._as_record_writer_options(), status)\n",
      "  File \"C:\\Users\\Yifei\\anaconda3\\lib\\site-packages\\tensorflow_core\\python\\framework\\errors_impl.py\", line 556, in __exit__\n",
      "    c_api.TF_GetCode(self.status.status))\n",
      "tensorflow.python.framework.errors_impl.NotFoundError: Failed to create a NewWriteableFile: /tmp/tf_examples.tfrecord : The system cannot find the path specified.\n",
      "\n",
      "; No such process\n"
     ]
    }
   ],
   "source": [
    "python create_pretraining_data.py --input_file=\"C:/Users/Yifei/Desktop/ECHR Publication Experiments/DS/corpus.txt\" --output_file=\"C:/Users/Yifei/Desktop/ECHR Publication Experiments/bert_master/pre-trained/uncased_L-12_H-768_A-12/tf_examples.tfrecord\" --vocab_file=\"C:/Users/Yifei/Desktop/ECHR Publication Experiments/bert_master/pre-trained/uncased_L-12_H-768_A-12/vocab.txt\" --do_lower_case=True --max_seq_length=512 --max_predictions_per_seq=77 --masked_lm_prob=0.15 --random_seed=12345 --dupe_factor=5 --do_whole_word_mask=True"
   ]
  },
  {
   "cell_type": "code",
   "execution_count": null,
   "metadata": {},
   "outputs": [],
   "source": []
  },
  {
   "cell_type": "code",
   "execution_count": null,
   "metadata": {},
   "outputs": [],
   "source": [
    "python run_pretraining.py --input_file=\"C:/Users/Yifei/Desktop/ECHR Publication Experiments/bert_master/pre-trained/uncased_L-12_H-768_A-12/tf_examples.tfrecord\" --output_dir=\"C:/Users/Yifei/Desktop/ECHR Publication Experiments/bert_master/pre-trained/uncased_L-12_H-768_A-12/pretraining_output\" --do_train=True --do_eval=True --bert_config_file=\"C:/Users/Yifei/Desktop/ECHR Publication Experiments/bert_master/pre-trained/uncased_L-12_H-768_A-12/bert_config.json\" --init_checkpoint=\"C:/Users/Yifei/Desktop/ECHR Publication Experiments/bert_master/pre-trained/uncased_L-12_H-768_A-12/bert_model.ckpt\" --train_batch_size=4 --max_seq_length=512 --max_predictions_per_seq=77 --num_train_steps=20 --num_warmup_steps=10 --learning_rate=2e-5"
   ]
  },
  {
   "cell_type": "code",
   "execution_count": 16,
   "metadata": {},
   "outputs": [
    {
     "data": {
      "text/plain": [
       "['.ipynb_checkpoints',\n",
       " 'bert_master',\n",
       " 'doc_adapter.py',\n",
       " 'DS',\n",
       " 'Fine Tuning.ipynb',\n",
       " 'Play Ground.ipynb',\n",
       " 'Untitled.ipynb',\n",
       " '__pycache__']"
      ]
     },
     "execution_count": 16,
     "metadata": {},
     "output_type": "execute_result"
    }
   ],
   "source": [
    "import os\n",
    "os.listdir()"
   ]
  },
  {
   "cell_type": "code",
   "execution_count": null,
   "metadata": {},
   "outputs": [],
   "source": []
  }
 ],
 "metadata": {
  "kernelspec": {
   "display_name": "Python 3",
   "language": "python",
   "name": "python3"
  },
  "language_info": {
   "codemirror_mode": {
    "name": "ipython",
    "version": 3
   },
   "file_extension": ".py",
   "mimetype": "text/x-python",
   "name": "python",
   "nbconvert_exporter": "python",
   "pygments_lexer": "ipython3",
   "version": "3.7.6"
  }
 },
 "nbformat": 4,
 "nbformat_minor": 4
}
